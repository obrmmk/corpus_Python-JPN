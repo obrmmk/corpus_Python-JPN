{
 "cells": [
  {
   "cell_type": "code",
   "execution_count": 1,
   "source": [
    "import pandas as pd\n",
    "import csv"
   ],
   "outputs": [
    {
     "output_type": "stream",
     "name": "stderr",
     "text": [
      "/Users/nobu/.pyenv/versions/3.9.4/lib/python3.9/site-packages/pandas/compat/__init__.py:97: UserWarning: Could not import the lzma module. Your installed Python is incomplete. Attempting to use lzma compression will result in a RuntimeError.\n",
      "  warnings.warn(msg)\n"
     ]
    }
   ],
   "metadata": {}
  },
  {
   "cell_type": "code",
   "execution_count": 2,
   "source": [
    "df = pd.read_csv('result_0923_DS.tsv', sep='\\t', names=('JPN', 'Py', 'Py_predict'))\n",
    "df.head()"
   ],
   "outputs": [
    {
     "output_type": "execute_result",
     "data": {
      "text/html": [
       "<div>\n",
       "<style scoped>\n",
       "    .dataframe tbody tr th:only-of-type {\n",
       "        vertical-align: middle;\n",
       "    }\n",
       "\n",
       "    .dataframe tbody tr th {\n",
       "        vertical-align: top;\n",
       "    }\n",
       "\n",
       "    .dataframe thead th {\n",
       "        text-align: right;\n",
       "    }\n",
       "</style>\n",
       "<table border=\"1\" class=\"dataframe\">\n",
       "  <thead>\n",
       "    <tr style=\"text-align: right;\">\n",
       "      <th></th>\n",
       "      <th>JPN</th>\n",
       "      <th>Py</th>\n",
       "      <th>Py_predict</th>\n",
       "    </tr>\n",
       "  </thead>\n",
       "  <tbody>\n",
       "    <tr>\n",
       "      <th>0</th>\n",
       "      <td>データフレーム &lt;A&gt; 内の &lt;b&gt; コラムに重複はあるのかどうか確認</td>\n",
       "      <td>&lt;A&gt; . duplicated ( subset = &lt;b&gt; )</td>\n",
       "      <td>df . duplicated ( subset = &lt;b&gt; )</td>\n",
       "    </tr>\n",
       "    <tr>\n",
       "      <th>1</th>\n",
       "      <td>色を &lt;A&gt; として、 &lt;C&gt; と &lt;B&gt; の折れ線グラフをプロットする</td>\n",
       "      <td>plt . plot ( &lt;C&gt; , &lt;B&gt; , color = ( &lt;A&gt; ) )</td>\n",
       "      <td>plt . plot ( &lt;C&gt; , &lt;B&gt; , color = ( &lt;A&gt; ) ) )</td>\n",
       "    </tr>\n",
       "    <tr>\n",
       "      <th>2</th>\n",
       "      <td>表データ &lt;C&gt; の表属性 &lt;b&gt; と &lt;a&gt; を大から小へと並び替え、再代入する</td>\n",
       "      <td>&lt;C&gt; = &lt;C&gt; . sort_values ( [ &lt;b&gt; , &lt;a&gt; ] , asce...</td>\n",
       "      <td>df = &lt;C&gt; . sort_values ( [ &lt;b&gt; , &lt;a&gt; ] , ascen...</td>\n",
       "    </tr>\n",
       "    <tr>\n",
       "      <th>3</th>\n",
       "      <td>データフレーム &lt;A&gt; の欠損値を &lt;A&gt; の平均値で埋めて、 &lt;A&gt; にする</td>\n",
       "      <td>&lt;A&gt; = &lt;A&gt; . fillna ( &lt;A&gt; . mean ( ) )</td>\n",
       "      <td>( &lt;A&gt; = &lt;A&gt; . fillna ( &lt;A&gt; . mean ( ) )</td>\n",
       "    </tr>\n",
       "    <tr>\n",
       "      <th>4</th>\n",
       "      <td>表 &lt;A&gt; のインデックスを振り直して、置き換える</td>\n",
       "      <td>&lt;A&gt; = &lt;A&gt; . reset_index ( )</td>\n",
       "      <td>&lt;A&gt; . reset_index ( inplace = True )</td>\n",
       "    </tr>\n",
       "  </tbody>\n",
       "</table>\n",
       "</div>"
      ],
      "text/plain": [
       "                                         JPN  \\\n",
       "0        データフレーム <A> 内の <b> コラムに重複はあるのかどうか確認   \n",
       "1       色を <A> として、 <C> と <B> の折れ線グラフをプロットする   \n",
       "2  表データ <C> の表属性 <b> と <a> を大から小へと並び替え、再代入する   \n",
       "3    データフレーム <A> の欠損値を <A> の平均値で埋めて、 <A> にする   \n",
       "4                  表 <A> のインデックスを振り直して、置き換える   \n",
       "\n",
       "                                                  Py  \\\n",
       "0                  <A> . duplicated ( subset = <b> )   \n",
       "1         plt . plot ( <C> , <B> , color = ( <A> ) )   \n",
       "2  <C> = <C> . sort_values ( [ <b> , <a> ] , asce...   \n",
       "3              <A> = <A> . fillna ( <A> . mean ( ) )   \n",
       "4                        <A> = <A> . reset_index ( )   \n",
       "\n",
       "                                          Py_predict  \n",
       "0                   df . duplicated ( subset = <b> )  \n",
       "1       plt . plot ( <C> , <B> , color = ( <A> ) ) )  \n",
       "2  df = <C> . sort_values ( [ <b> , <a> ] , ascen...  \n",
       "3            ( <A> = <A> . fillna ( <A> . mean ( ) )  \n",
       "4               <A> . reset_index ( inplace = True )  "
      ]
     },
     "metadata": {},
     "execution_count": 2
    }
   ],
   "metadata": {}
  },
  {
   "cell_type": "code",
   "execution_count": 3,
   "source": [
    "cnt = 0\n",
    "correct = 0\n",
    "\n",
    "df_error = pd.DataFrame(columns=['JPN', 'Py', 'Py_predict'])\n",
    "\n",
    "for index, row in df.iterrows():\n",
    "  py = row['Py'].strip()\n",
    "  pred = row['Py_predict'].strip()\n",
    "\n",
    "  py = py.strip()\n",
    "  pred = pred.strip()\n",
    "\n",
    "  cnt += 1\n",
    "\n",
    "  if py == pred:\n",
    "    correct += 1\n",
    "  else:\n",
    "    df_error = df_error.append({'JPN': row['JPN'], 'Py': py, 'Py_predict': pred}, ignore_index=True)\n",
    "\n",
    "print('Finished')\n",
    "print(f'percentage of correct answers {correct}/{cnt} ({correct / cnt * 100}%)' )\n"
   ],
   "outputs": [
    {
     "output_type": "stream",
     "name": "stdout",
     "text": [
      "Finished\n",
      "percentage of correct answers 1552/4442 (34.939216569113015%)\n"
     ]
    }
   ],
   "metadata": {}
  },
  {
   "cell_type": "code",
   "execution_count": 4,
   "source": [
    "df_error.head()"
   ],
   "outputs": [
    {
     "output_type": "execute_result",
     "data": {
      "text/html": [
       "<div>\n",
       "<style scoped>\n",
       "    .dataframe tbody tr th:only-of-type {\n",
       "        vertical-align: middle;\n",
       "    }\n",
       "\n",
       "    .dataframe tbody tr th {\n",
       "        vertical-align: top;\n",
       "    }\n",
       "\n",
       "    .dataframe thead th {\n",
       "        text-align: right;\n",
       "    }\n",
       "</style>\n",
       "<table border=\"1\" class=\"dataframe\">\n",
       "  <thead>\n",
       "    <tr style=\"text-align: right;\">\n",
       "      <th></th>\n",
       "      <th>JPN</th>\n",
       "      <th>Py</th>\n",
       "      <th>Py_predict</th>\n",
       "    </tr>\n",
       "  </thead>\n",
       "  <tbody>\n",
       "    <tr>\n",
       "      <th>0</th>\n",
       "      <td>データフレーム &lt;A&gt; 内の &lt;b&gt; コラムに重複はあるのかどうか確認</td>\n",
       "      <td>&lt;A&gt; . duplicated ( subset = &lt;b&gt; )</td>\n",
       "      <td>df . duplicated ( subset = &lt;b&gt; )</td>\n",
       "    </tr>\n",
       "    <tr>\n",
       "      <th>1</th>\n",
       "      <td>色を &lt;A&gt; として、 &lt;C&gt; と &lt;B&gt; の折れ線グラフをプロットする</td>\n",
       "      <td>plt . plot ( &lt;C&gt; , &lt;B&gt; , color = ( &lt;A&gt; ) )</td>\n",
       "      <td>plt . plot ( &lt;C&gt; , &lt;B&gt; , color = ( &lt;A&gt; ) ) )</td>\n",
       "    </tr>\n",
       "    <tr>\n",
       "      <th>2</th>\n",
       "      <td>表データ &lt;C&gt; の表属性 &lt;b&gt; と &lt;a&gt; を大から小へと並び替え、再代入する</td>\n",
       "      <td>&lt;C&gt; = &lt;C&gt; . sort_values ( [ &lt;b&gt; , &lt;a&gt; ] , asce...</td>\n",
       "      <td>df = &lt;C&gt; . sort_values ( [ &lt;b&gt; , &lt;a&gt; ] , ascen...</td>\n",
       "    </tr>\n",
       "    <tr>\n",
       "      <th>3</th>\n",
       "      <td>データフレーム &lt;A&gt; の欠損値を &lt;A&gt; の平均値で埋めて、 &lt;A&gt; にする</td>\n",
       "      <td>&lt;A&gt; = &lt;A&gt; . fillna ( &lt;A&gt; . mean ( ) )</td>\n",
       "      <td>( &lt;A&gt; = &lt;A&gt; . fillna ( &lt;A&gt; . mean ( ) )</td>\n",
       "    </tr>\n",
       "    <tr>\n",
       "      <th>4</th>\n",
       "      <td>表 &lt;A&gt; のインデックスを振り直して、置き換える</td>\n",
       "      <td>&lt;A&gt; = &lt;A&gt; . reset_index ( )</td>\n",
       "      <td>&lt;A&gt; . reset_index ( inplace = True )</td>\n",
       "    </tr>\n",
       "  </tbody>\n",
       "</table>\n",
       "</div>"
      ],
      "text/plain": [
       "                                         JPN  \\\n",
       "0        データフレーム <A> 内の <b> コラムに重複はあるのかどうか確認   \n",
       "1       色を <A> として、 <C> と <B> の折れ線グラフをプロットする   \n",
       "2  表データ <C> の表属性 <b> と <a> を大から小へと並び替え、再代入する   \n",
       "3    データフレーム <A> の欠損値を <A> の平均値で埋めて、 <A> にする   \n",
       "4                  表 <A> のインデックスを振り直して、置き換える   \n",
       "\n",
       "                                                  Py  \\\n",
       "0                  <A> . duplicated ( subset = <b> )   \n",
       "1         plt . plot ( <C> , <B> , color = ( <A> ) )   \n",
       "2  <C> = <C> . sort_values ( [ <b> , <a> ] , asce...   \n",
       "3              <A> = <A> . fillna ( <A> . mean ( ) )   \n",
       "4                        <A> = <A> . reset_index ( )   \n",
       "\n",
       "                                          Py_predict  \n",
       "0                   df . duplicated ( subset = <b> )  \n",
       "1       plt . plot ( <C> , <B> , color = ( <A> ) ) )  \n",
       "2  df = <C> . sort_values ( [ <b> , <a> ] , ascen...  \n",
       "3            ( <A> = <A> . fillna ( <A> . mean ( ) )  \n",
       "4               <A> . reset_index ( inplace = True )  "
      ]
     },
     "metadata": {},
     "execution_count": 4
    }
   ],
   "metadata": {}
  },
  {
   "cell_type": "code",
   "execution_count": 5,
   "source": [
    "df.to_csv('result_0923_DS_error.tsv', index=False, header=False, sep='\\t', quoting=csv.QUOTE_NONE, doublequote=False, escapechar='\\n')"
   ],
   "outputs": [],
   "metadata": {}
  }
 ],
 "metadata": {
  "orig_nbformat": 4,
  "language_info": {
   "name": "python",
   "version": "3.9.4",
   "mimetype": "text/x-python",
   "codemirror_mode": {
    "name": "ipython",
    "version": 3
   },
   "pygments_lexer": "ipython3",
   "nbconvert_exporter": "python",
   "file_extension": ".py"
  },
  "kernelspec": {
   "name": "python3",
   "display_name": "Python 3.9.4 64-bit ('3.9.4': pyenv)"
  },
  "interpreter": {
   "hash": "4db84bcf33790994b1302b7663c953db7fd786671b6248520f8012b22700317d"
  }
 },
 "nbformat": 4,
 "nbformat_minor": 2
}