{
 "cells": [
  {
   "cell_type": "code",
   "execution_count": 38,
   "source": [
    "import pandas as pd\n",
    "import csv"
   ],
   "outputs": [],
   "metadata": {}
  },
  {
   "cell_type": "code",
   "execution_count": 39,
   "source": [
    "df = pd.read_csv('result_0917_DS.tsv', sep='\\t', names=('JPN', 'Py', 'Py_predict'))\n",
    "df.head()"
   ],
   "outputs": [
    {
     "output_type": "execute_result",
     "data": {
      "text/html": [
       "<div>\n",
       "<style scoped>\n",
       "    .dataframe tbody tr th:only-of-type {\n",
       "        vertical-align: middle;\n",
       "    }\n",
       "\n",
       "    .dataframe tbody tr th {\n",
       "        vertical-align: top;\n",
       "    }\n",
       "\n",
       "    .dataframe thead th {\n",
       "        text-align: right;\n",
       "    }\n",
       "</style>\n",
       "<table border=\"1\" class=\"dataframe\">\n",
       "  <thead>\n",
       "    <tr style=\"text-align: right;\">\n",
       "      <th></th>\n",
       "      <th>JPN</th>\n",
       "      <th>Py</th>\n",
       "      <th>Py_predict</th>\n",
       "    </tr>\n",
       "  </thead>\n",
       "  <tbody>\n",
       "    <tr>\n",
       "      <th>0</th>\n",
       "      <td>表データ &lt;C&gt; の列 &lt;b&gt; と &lt;a&gt; 列を降順に並び替えて、 &lt;C&gt; にする</td>\n",
       "      <td>&lt;C&gt; = &lt;C&gt; . sort_values ( [ &lt;b&gt; , &lt;a&gt; ] , asce...</td>\n",
       "      <td>&lt;A&gt; = &lt;C&gt; . sort_values ( [ &lt;b&gt; , &lt;a&gt; ] , asc...</td>\n",
       "    </tr>\n",
       "    <tr>\n",
       "      <th>1</th>\n",
       "      <td>表データ &lt;B&gt; の &lt;c&gt; コラムをインデックスとして、 &lt;A&gt; とする</td>\n",
       "      <td>&lt;A&gt; = &lt;B&gt; . set_index ( &lt;c&gt; )</td>\n",
       "      <td>@option set_index = &lt;B&gt; . set_index ( &lt;c&gt; )</td>\n",
       "    </tr>\n",
       "    <tr>\n",
       "      <th>2</th>\n",
       "      <td>表 &lt;C&gt; のインデックス名を &lt;b&gt; から &lt;a&gt; にリネームし、置き換える</td>\n",
       "      <td>&lt;C&gt; = &lt;C&gt; . rename ( index = { &lt;b&gt; : &lt;a&gt; } )</td>\n",
       "      <td>&lt;A&gt; . rename ( index = { &lt;b&gt; : &lt;a&gt; } , inplac...</td>\n",
       "    </tr>\n",
       "    <tr>\n",
       "      <th>3</th>\n",
       "      <td>データフレーム &lt;A&gt; の &lt;b&gt; を欠損に置換し、欠損が存在する行を消す</td>\n",
       "      <td>&lt;A&gt; . replace ( &lt;b&gt; , np . nan ) . dropna ( )</td>\n",
       "      <td>) . replace ( &lt;b&gt; , np . nan ) . dropna ( )</td>\n",
       "    </tr>\n",
       "    <tr>\n",
       "      <th>4</th>\n",
       "      <td>表属性 &lt;c&gt; をキーとして、 &lt;A&gt; データフレームと &lt;B&gt; を結合する</td>\n",
       "      <td>pd . merge ( &lt;A&gt; , &lt;B&gt; , on = &lt;c&gt; )</td>\n",
       "      <td>pd . merge ( &lt;A&gt; , &lt;B&gt; , on = &lt;c&gt; )</td>\n",
       "    </tr>\n",
       "  </tbody>\n",
       "</table>\n",
       "</div>"
      ],
      "text/plain": [
       "                                         JPN  \\\n",
       "0  表データ <C> の列 <b> と <a> 列を降順に並び替えて、 <C> にする   \n",
       "1      表データ <B> の <c> コラムをインデックスとして、 <A> とする   \n",
       "2    表 <C> のインデックス名を <b> から <a> にリネームし、置き換える   \n",
       "3      データフレーム <A> の <b> を欠損に置換し、欠損が存在する行を消す   \n",
       "4     表属性 <c> をキーとして、 <A> データフレームと <B> を結合する   \n",
       "\n",
       "                                                  Py  \\\n",
       "0  <C> = <C> . sort_values ( [ <b> , <a> ] , asce...   \n",
       "1                      <A> = <B> . set_index ( <c> )   \n",
       "2       <C> = <C> . rename ( index = { <b> : <a> } )   \n",
       "3      <A> . replace ( <b> , np . nan ) . dropna ( )   \n",
       "4                pd . merge ( <A> , <B> , on = <c> )   \n",
       "\n",
       "                                          Py_predict  \n",
       "0   <A> = <C> . sort_values ( [ <b> , <a> ] , asc...  \n",
       "1       @option set_index = <B> . set_index ( <c> )   \n",
       "2   <A> . rename ( index = { <b> : <a> } , inplac...  \n",
       "3       ) . replace ( <b> , np . nan ) . dropna ( )   \n",
       "4               pd . merge ( <A> , <B> , on = <c> )   "
      ]
     },
     "metadata": {},
     "execution_count": 39
    }
   ],
   "metadata": {}
  },
  {
   "cell_type": "code",
   "execution_count": 46,
   "source": [
    "cnt = 0\n",
    "correct = 0\n",
    "\n",
    "df_error = pd.DataFrame(columns=['JPN', 'Py', 'Py_predict'])\n",
    "\n",
    "for index, row in df.iterrows():\n",
    "  py = row['Py'].strip()\n",
    "  pred = row['Py_predict'].strip()\n",
    "\n",
    "  py = py.strip()\n",
    "  pred = pred.strip()\n",
    "\n",
    "  cnt += 1\n",
    "\n",
    "  if py == pred:\n",
    "    correct += 1\n",
    "  else:\n",
    "    df_error = df_error.append({'JPN': row['JPN'], 'Py': py, 'Py_predict': pred}, ignore_index=True)\n",
    "\n",
    "print('Finished')\n",
    "print(f'percentage of correct answers {correct}/{cnt} ({correct / cnt * 100}%)' )\n"
   ],
   "outputs": [
    {
     "output_type": "stream",
     "name": "stdout",
     "text": [
      "Finished\n",
      "percentage of correct answers 484/1772 (27.313769751693002%)\n"
     ]
    }
   ],
   "metadata": {}
  },
  {
   "cell_type": "code",
   "execution_count": 47,
   "source": [
    "df_error.head()"
   ],
   "outputs": [
    {
     "output_type": "execute_result",
     "data": {
      "text/html": [
       "<div>\n",
       "<style scoped>\n",
       "    .dataframe tbody tr th:only-of-type {\n",
       "        vertical-align: middle;\n",
       "    }\n",
       "\n",
       "    .dataframe tbody tr th {\n",
       "        vertical-align: top;\n",
       "    }\n",
       "\n",
       "    .dataframe thead th {\n",
       "        text-align: right;\n",
       "    }\n",
       "</style>\n",
       "<table border=\"1\" class=\"dataframe\">\n",
       "  <thead>\n",
       "    <tr style=\"text-align: right;\">\n",
       "      <th></th>\n",
       "      <th>JPN</th>\n",
       "      <th>Py</th>\n",
       "      <th>Py_predict</th>\n",
       "    </tr>\n",
       "  </thead>\n",
       "  <tbody>\n",
       "    <tr>\n",
       "      <th>0</th>\n",
       "      <td>表データ &lt;C&gt; の列 &lt;b&gt; と &lt;a&gt; 列を降順に並び替えて、 &lt;C&gt; にする</td>\n",
       "      <td>&lt;C&gt; = &lt;C&gt; . sort_values ( [ &lt;b&gt; , &lt;a&gt; ] , asce...</td>\n",
       "      <td>&lt;A&gt; = &lt;C&gt; . sort_values ( [ &lt;b&gt; , &lt;a&gt; ] , asce...</td>\n",
       "    </tr>\n",
       "    <tr>\n",
       "      <th>1</th>\n",
       "      <td>表データ &lt;B&gt; の &lt;c&gt; コラムをインデックスとして、 &lt;A&gt; とする</td>\n",
       "      <td>&lt;A&gt; = &lt;B&gt; . set_index ( &lt;c&gt; )</td>\n",
       "      <td>@option set_index = &lt;B&gt; . set_index ( &lt;c&gt; )</td>\n",
       "    </tr>\n",
       "    <tr>\n",
       "      <th>2</th>\n",
       "      <td>表 &lt;C&gt; のインデックス名を &lt;b&gt; から &lt;a&gt; にリネームし、置き換える</td>\n",
       "      <td>&lt;C&gt; = &lt;C&gt; . rename ( index = { &lt;b&gt; : &lt;a&gt; } )</td>\n",
       "      <td>&lt;A&gt; . rename ( index = { &lt;b&gt; : &lt;a&gt; } , inplace...</td>\n",
       "    </tr>\n",
       "    <tr>\n",
       "      <th>3</th>\n",
       "      <td>データフレーム &lt;A&gt; の &lt;b&gt; を欠損に置換し、欠損が存在する行を消す</td>\n",
       "      <td>&lt;A&gt; . replace ( &lt;b&gt; , np . nan ) . dropna ( )</td>\n",
       "      <td>) . replace ( &lt;b&gt; , np . nan ) . dropna ( )</td>\n",
       "    </tr>\n",
       "    <tr>\n",
       "      <th>4</th>\n",
       "      <td>表データ &lt;A&gt; の列名を調べる</td>\n",
       "      <td>&lt;A&gt; . columns</td>\n",
       "      <td>columns &lt;A&gt; . columns</td>\n",
       "    </tr>\n",
       "  </tbody>\n",
       "</table>\n",
       "</div>"
      ],
      "text/plain": [
       "                                         JPN  \\\n",
       "0  表データ <C> の列 <b> と <a> 列を降順に並び替えて、 <C> にする   \n",
       "1      表データ <B> の <c> コラムをインデックスとして、 <A> とする   \n",
       "2    表 <C> のインデックス名を <b> から <a> にリネームし、置き換える   \n",
       "3      データフレーム <A> の <b> を欠損に置換し、欠損が存在する行を消す   \n",
       "4                           表データ <A> の列名を調べる   \n",
       "\n",
       "                                                  Py  \\\n",
       "0  <C> = <C> . sort_values ( [ <b> , <a> ] , asce...   \n",
       "1                      <A> = <B> . set_index ( <c> )   \n",
       "2       <C> = <C> . rename ( index = { <b> : <a> } )   \n",
       "3      <A> . replace ( <b> , np . nan ) . dropna ( )   \n",
       "4                                      <A> . columns   \n",
       "\n",
       "                                          Py_predict  \n",
       "0  <A> = <C> . sort_values ( [ <b> , <a> ] , asce...  \n",
       "1        @option set_index = <B> . set_index ( <c> )  \n",
       "2  <A> . rename ( index = { <b> : <a> } , inplace...  \n",
       "3        ) . replace ( <b> , np . nan ) . dropna ( )  \n",
       "4                              columns <A> . columns  "
      ]
     },
     "metadata": {},
     "execution_count": 47
    }
   ],
   "metadata": {}
  },
  {
   "cell_type": "code",
   "execution_count": 48,
   "source": [
    "df.to_csv('result_0917_DS_error.tsv', index=False, header=False, sep='\\t', quoting=csv.QUOTE_NONE, doublequote=False, escapechar='\\n')"
   ],
   "outputs": [],
   "metadata": {}
  },
  {
   "cell_type": "code",
   "execution_count": null,
   "source": [],
   "outputs": [],
   "metadata": {}
  }
 ],
 "metadata": {
  "orig_nbformat": 4,
  "language_info": {
   "name": "python",
   "version": "3.9.4",
   "mimetype": "text/x-python",
   "codemirror_mode": {
    "name": "ipython",
    "version": 3
   },
   "pygments_lexer": "ipython3",
   "nbconvert_exporter": "python",
   "file_extension": ".py"
  },
  "kernelspec": {
   "name": "python3",
   "display_name": "Python 3.9.4 64-bit ('3.9.4': pyenv)"
  },
  "interpreter": {
   "hash": "4db84bcf33790994b1302b7663c953db7fd786671b6248520f8012b22700317d"
  }
 },
 "nbformat": 4,
 "nbformat_minor": 2
}